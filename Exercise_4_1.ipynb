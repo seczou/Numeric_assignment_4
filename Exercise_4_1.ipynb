{
 "cells": [
  {
   "cell_type": "code",
   "execution_count": 50,
   "metadata": {
    "collapsed": true
   },
   "outputs": [],
   "source": [
    "import numpy as np\n",
    "\n",
    "from scipy.sparse import diags\n",
    "\n",
    "from scipy.sparse.linalg import spsolve"
   ]
  },
  {
   "cell_type": "markdown",
   "metadata": {},
   "source": [
    "# Exercise 1\n",
    "## Part (a):\n",
    "$$f_1(x,y) = -6xy^3 -6 x^3y + 12xy$$ and\n",
    "$$f_2(x,y) = 10\\pi^2 \\sin(3\\pi x)\\sin(\\pi y)$$."
   ]
  },
  {
   "cell_type": "markdown",
   "metadata": {},
   "source": [
    "## Part (b)\n",
    "We first use $f$ with one index \"i\" required by the part b to put $f_1$ and $f_2$ together.\n",
    "That is,"
   ]
  },
  {
   "cell_type": "code",
   "execution_count": 51,
   "metadata": {},
   "outputs": [],
   "source": [
    "def f(x,y,i):\n",
    "    if i==1: \n",
    "         return -6*x*y**3-6*x**3*y+12*x*y\n",
    "    if i==2:\n",
    "         return 10*np.pi**2*np.sin(3*np.pi*x)*np.sin(np.pi*y)"
   ]
  },
  {
   "cell_type": "markdown",
   "metadata": {},
   "source": [
    "then extract our solutions $u_1$ and $u_2$,"
   ]
  },
  {
   "cell_type": "code",
   "execution_count": 52,
   "metadata": {},
   "outputs": [],
   "source": [
    "u1= lambda x,y: x*y+x**3*y**3-x**3*y-x*y**3\n",
    "u2= lambda x,y: np.sin(3*np.pi*x)*np.sin(np.pi*y)"
   ]
  },
  {
   "cell_type": "markdown",
   "metadata": {},
   "source": [
    "To definde the function [Lh,fh] = a04e01getPDE(p,i)"
   ]
  },
  {
   "cell_type": "code",
   "execution_count": 82,
   "metadata": {},
   "outputs": [],
   "source": [
    "def a04e01getPDE(p,i):\n",
    "    N=2**p-1\n",
    "    h=1/(N+1)\n",
    "    x = np.linspace(0,1, N+2)[1:-1]\n",
    "    y = np.linspace(0,1, N+2)[1:-1]\n",
    "    Lh= (1/h**2)*diags([-4,1,1,1,1],[0,-1,1,N,-N], shape=(N**2,N**2)).toarray()\n",
    "    ##let next specify the fh according to a lecicographical ordering \n",
    "    ##and please notice that $g=0$ on the boundary.\n",
    "    fh = np.zeros(N**2,1)\n",
    "    for k in range(N):\n",
    "          fh[k*N : (k+1)*N] = f(x,y[k],i) \n",
    "    return [Lh,fh]"
   ]
  },
  {
   "cell_type": "markdown",
   "metadata": {},
   "source": [
    "# Part (c)\n"
   ]
  },
  {
   "cell_type": "code",
   "execution_count": null,
   "metadata": {
    "collapsed": true
   },
   "outputs": [],
   "source": [
    "def error"
   ]
  }
 ],
 "metadata": {
  "kernelspec": {
   "display_name": "Python 3",
   "language": "python",
   "name": "python3"
  },
  "language_info": {
   "codemirror_mode": {
    "name": "ipython",
    "version": 3
   },
   "file_extension": ".py",
   "mimetype": "text/x-python",
   "name": "python",
   "nbconvert_exporter": "python",
   "pygments_lexer": "ipython3",
   "version": "3.6.3"
  }
 },
 "nbformat": 4,
 "nbformat_minor": 2
}
